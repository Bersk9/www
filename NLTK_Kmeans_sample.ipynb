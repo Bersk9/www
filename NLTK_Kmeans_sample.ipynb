{
  "nbformat": 4,
  "nbformat_minor": 0,
  "metadata": {
    "colab": {
      "name": "NLTK_Kmeans_sample.ipynb",
      "provenance": [],
      "collapsed_sections": [],
      "include_colab_link": true
    },
    "kernelspec": {
      "name": "python3",
      "display_name": "Python 3"
    }
  },
  "cells": [
    {
      "cell_type": "markdown",
      "metadata": {
        "id": "view-in-github",
        "colab_type": "text"
      },
      "source": [
        "<a href=\"https://colab.research.google.com/github/kobemawu/www/blob/master/NLTK_Kmeans_sample.ipynb\" target=\"_parent\"><img src=\"https://colab.research.google.com/assets/colab-badge.svg\" alt=\"Open In Colab\"/></a>"
      ]
    },
    {
      "cell_type": "code",
      "metadata": {
        "id": "m6ROXjEiGFok",
        "colab_type": "code",
        "colab": {}
      },
      "source": [
        "import numpy as np\n",
        "from nltk import cluster\n",
        "from nltk.cluster import euclidean_distance, cosine_distance"
      ],
      "execution_count": 0,
      "outputs": []
    },
    {
      "cell_type": "code",
      "metadata": {
        "id": "kDCpGS_VGHTo",
        "colab_type": "code",
        "outputId": "69417ee3-00ba-4a63-94c8-e3e8bad191e3",
        "colab": {
          "base_uri": "https://localhost:8080/",
          "height": 187
        }
      },
      "source": [
        "#サンプルデータとして10個の2次元のvectorを扱う / use 10 2d vectors as sample data \n",
        "vectors=np.random.rand(10,2)\n",
        "vectors"
      ],
      "execution_count": 0,
      "outputs": [
        {
          "output_type": "execute_result",
          "data": {
            "text/plain": [
              "array([[0.3707381 , 0.90359129],\n",
              "       [0.7368479 , 0.83209464],\n",
              "       [0.96413456, 0.38323588],\n",
              "       [0.98560493, 0.72836924],\n",
              "       [0.38094095, 0.78606587],\n",
              "       [0.36165069, 0.03282403],\n",
              "       [0.80456028, 0.79579342],\n",
              "       [0.32648006, 0.08350956],\n",
              "       [0.90170595, 0.6869982 ],\n",
              "       [0.94465657, 0.01701178]])"
            ]
          },
          "metadata": {
            "tags": []
          },
          "execution_count": 27
        }
      ]
    },
    {
      "cell_type": "code",
      "metadata": {
        "id": "qFJnJRKHKwAf",
        "colab_type": "code",
        "colab": {}
      },
      "source": [
        "#クラスタ数 / the number of clusters\n",
        "n_clusters=3"
      ],
      "execution_count": 0,
      "outputs": []
    },
    {
      "cell_type": "code",
      "metadata": {
        "id": "9smMUpDVMolm",
        "colab_type": "code",
        "colab": {}
      },
      "source": [
        ""
      ],
      "execution_count": 0,
      "outputs": []
    },
    {
      "cell_type": "code",
      "metadata": {
        "id": "v3wjkW1gGmiV",
        "colab_type": "code",
        "outputId": "e254bdb2-3f1e-40ed-826e-36030e743674",
        "colab": {
          "base_uri": "https://localhost:8080/",
          "height": 255
        }
      },
      "source": [
        "# euclidean_distance\n",
        "kmeans = cluster.KMeansClusterer(n_clusters, euclidean_distance, avoid_empty_clusters=True, conv_test=1e-4)  \n",
        "clusters = kmeans.cluster(vectors, True, trace=True) \n",
        "clusters"
      ],
      "execution_count": 0,
      "outputs": [
        {
          "output_type": "stream",
          "text": [
            "k-means trial 0\n",
            "iteration\n",
            "iteration\n",
            "iteration\n",
            "iteration\n",
            "iteration\n",
            "iteration\n",
            "iteration\n",
            "iteration\n",
            "iteration\n",
            "iteration\n",
            "iteration\n",
            "iteration\n"
          ],
          "name": "stdout"
        },
        {
          "output_type": "execute_result",
          "data": {
            "text/plain": [
              "[0, 1, 2, 0, 2, 0, 1, 0, 1, 1]"
            ]
          },
          "metadata": {
            "tags": []
          },
          "execution_count": 26
        }
      ]
    },
    {
      "cell_type": "code",
      "metadata": {
        "id": "SKQbHQC4GInQ",
        "colab_type": "code",
        "outputId": "21722341-ee9a-428e-d18c-f26e71f78b9b",
        "colab": {
          "base_uri": "https://localhost:8080/",
          "height": 170
        }
      },
      "source": [
        "# cosine_distance\n",
        "kmeans = cluster.KMeansClusterer(n_clusters,  cosine_distance, avoid_empty_clusters=True,conv_test=1e-4)  \n",
        "clusters = kmeans.cluster(vectors, True, trace=True) \n",
        "clusters"
      ],
      "execution_count": 0,
      "outputs": [
        {
          "output_type": "stream",
          "text": [
            "k-means trial 0\n",
            "iteration\n",
            "iteration\n",
            "iteration\n",
            "iteration\n",
            "iteration\n",
            "iteration\n",
            "iteration\n"
          ],
          "name": "stdout"
        },
        {
          "output_type": "execute_result",
          "data": {
            "text/plain": [
              "[0, 2, 1, 2, 0, 1, 2, 1, 2, 1]"
            ]
          },
          "metadata": {
            "tags": []
          },
          "execution_count": 29
        }
      ]
    },
    {
      "cell_type": "code",
      "metadata": {
        "id": "dOepJ_RfGJ0G",
        "colab_type": "code",
        "colab": {}
      },
      "source": [
        ""
      ],
      "execution_count": 0,
      "outputs": []
    }
  ]
}