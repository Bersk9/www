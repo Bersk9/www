{
  "nbformat": 4,
  "nbformat_minor": 0,
  "metadata": {
    "colab": {
      "name": "Assignment 2A",
      "provenance": [],
      "authorship_tag": "ABX9TyPjV5CM1SVjUEd2N2gWYvKs",
      "include_colab_link": true
    },
    "kernelspec": {
      "name": "python3",
      "display_name": "Python 3"
    }
  },
  "cells": [
    {
      "cell_type": "markdown",
      "metadata": {
        "id": "view-in-github",
        "colab_type": "text"
      },
      "source": [
        "<a href=\"https://colab.research.google.com/github/Bersk9/www/blob/master/Assignment_2A.ipynb\" target=\"_parent\"><img src=\"https://colab.research.google.com/assets/colab-badge.svg\" alt=\"Open In Colab\"/></a>"
      ]
    },
    {
      "cell_type": "code",
      "metadata": {
        "id": "y3Tyo3e2OcI5",
        "colab_type": "code",
        "colab": {}
      },
      "source": [
        "from sklearn.feature_extraction.text import TfidfVectorizer\n",
        "from sklearn.cluster import KMeans\n",
        "from nltk import cluster\n",
        "from nltk.cluster import euclidean_distance, cosine_distance\n",
        "import numpy as np\n",
        "import matplotlib.pyplot as plt\n",
        "import pandas as pd\n",
        "import nltk\n",
        "import collections\n",
        "import re"
      ],
      "execution_count": 1,
      "outputs": []
    },
    {
      "cell_type": "code",
      "metadata": {
        "id": "0tFOh1wGPbKB",
        "colab_type": "code",
        "colab": {
          "base_uri": "https://localhost:8080/",
          "height": 153
        },
        "outputId": "686675aa-16c4-4aca-ae32-349c59a166f7"
      },
      "source": [
        "nltk.download(\"stopwords\")\n",
        "nltk.download(\"wordnet\")\n",
        "#Dowloand the dataset\n",
        "nltk.download(\"brown\")\n",
        "nltk.download(\"punkt\")\n",
        "en_stop = nltk.corpus.stopwords.words('english')"
      ],
      "execution_count": 42,
      "outputs": [
        {
          "output_type": "stream",
          "text": [
            "[nltk_data] Downloading package stopwords to /root/nltk_data...\n",
            "[nltk_data]   Package stopwords is already up-to-date!\n",
            "[nltk_data] Downloading package wordnet to /root/nltk_data...\n",
            "[nltk_data]   Package wordnet is already up-to-date!\n",
            "[nltk_data] Downloading package brown to /root/nltk_data...\n",
            "[nltk_data]   Package brown is already up-to-date!\n",
            "[nltk_data] Downloading package punkt to /root/nltk_data...\n",
            "[nltk_data]   Package punkt is already up-to-date!\n"
          ],
          "name": "stdout"
        }
      ]
    },
    {
      "cell_type": "code",
      "metadata": {
        "id": "90a5dO7BQGvO",
        "colab_type": "code",
        "colab": {
          "base_uri": "https://localhost:8080/",
          "height": 221
        },
        "outputId": "ae0c567c-61a8-4e2a-ba24-cfc002f6dbbf"
      },
      "source": [
        "#Exploring the dataset\n",
        "from nltk.corpus import brown as corpus\n",
        "\n",
        "for n,item in enumerate(corpus.words(corpus.fileids()[0])[:300]):\n",
        "    print(item, end=\" \")\n",
        "    if (n%25) ==24:\n",
        "      print(\" \")"
      ],
      "execution_count": 43,
      "outputs": [
        {
          "output_type": "stream",
          "text": [
            "The Fulton County Grand Jury said Friday an investigation of Atlanta's recent primary election produced `` no evidence '' that any irregularities took place .  \n",
            "The jury further said in term-end presentments that the City Executive Committee , which had over-all charge of the election , `` deserves the praise  \n",
            "and thanks of the City of Atlanta '' for the manner in which the election was conducted . The September-October term jury had been charged  \n",
            "by Fulton Superior Court Judge Durwood Pye to investigate reports of possible `` irregularities '' in the hard-fought primary which was won by Mayor-nominate Ivan  \n",
            "Allen Jr. . `` Only a relative handful of such reports was received '' , the jury said , `` considering the widespread interest in  \n",
            "the election , the number of voters and the size of this city '' . The jury said it did find that many of Georgia's  \n",
            "registration and election laws `` are outmoded or inadequate and often ambiguous '' . It recommended that Fulton legislators act `` to have these laws  \n",
            "studied and revised to the end of modernizing and improving them '' . The grand jury commented on a number of other topics , among  \n",
            "them the Atlanta and Fulton County purchasing departments which it said `` are well operated and follow generally accepted practices which inure to the best  \n",
            "interest of both governments '' . Merger proposed However , the jury said it believes `` these two offices should be combined to achieve greater  \n",
            "efficiency and reduce the cost of administration '' . The City Purchasing Department , the jury said , `` is lacking in experienced clerical personnel  \n",
            "as a result of city personnel policies '' . It urged that the city `` take steps to remedy '' this problem . Implementation of  \n"
          ],
          "name": "stdout"
        }
      ]
    },
    {
      "cell_type": "markdown",
      "metadata": {
        "id": "w8LXDzpxbjMz",
        "colab_type": "text"
      },
      "source": [
        "Review the number of documents"
      ]
    },
    {
      "cell_type": "code",
      "metadata": {
        "id": "CCRpEfJKTIb_",
        "colab_type": "code",
        "colab": {
          "base_uri": "https://localhost:8080/",
          "height": 71
        },
        "outputId": "add3ad90-ca43-4bea-eed3-23dc307c2ffd"
      },
      "source": [
        "docs=[corpus.words(fileid) for fileid in corpus.fileids()]\n",
        "\n",
        "print(docs[:5])\n",
        "print(\"num of docs:\", len(docs))"
      ],
      "execution_count": 51,
      "outputs": [
        {
          "output_type": "stream",
          "text": [
            "[['The', 'Fulton', 'County', 'Grand', 'Jury', 'said', ...], ['Austin', ',', 'Texas', '--', 'Committee', 'approval', ...], ['Several', 'defendants', 'in', 'the', 'Summerdale', ...], ['Oslo', 'The', 'most', 'positive', 'element', 'to', ...], ['East', 'Providence', 'should', 'organize', 'its', ...]]\n",
            "num of docs: 500\n"
          ],
          "name": "stdout"
        }
      ]
    },
    {
      "cell_type": "code",
      "metadata": {
        "id": "_cMv_o9dfO5i",
        "colab_type": "code",
        "colab": {}
      },
      "source": [
        "import string\n",
        "\n",
        "# English stopwords defined by the NLTK package.\n",
        "en_stop = nltk.corpus.stopwords.words('english')\n",
        "\n",
        "# Ignore noises that might affect our result.\n",
        "en_stop = [\"``\",\"/\",\",.\",\".,\",\";\",\"--\",\":\",\")\",\"(\",'\"','&',\"'\",'),',',\"','-','.,','.,\"','.-',\"?\",\">\",\"<\",\"!\",\"#\",\"$\",\"%\",\"+\",\"=\",\"?\",\"@\",\"[\",\"]\",\"`\",\"''\",\"'\",\"-\"]                  \\\n",
        "         +[\"[0-9]+\"]                                                      \\\n",
        "         +[\"said\",\"say\",\"u\",\"v\",\"mln\",\"ct\",\"net\",\"dlrs\",\"tonne\",\"pct\",\"shr\",\"nil\",\"company\",\"lt\",\"share\",\"year\",\"billion\",\"price\"]          \\\n",
        "         +en_stop"
      ],
      "execution_count": 52,
      "outputs": []
    },
    {
      "cell_type": "code",
      "metadata": {
        "id": "hnvY3b9ZVcaR",
        "colab_type": "code",
        "colab": {}
      },
      "source": [
        "### Pre-processing Method\n",
        "\n",
        "from nltk.corpus import wordnet as wn # import for lemmatize\n",
        "\n",
        "def preprocess_word(word, stopwordset):\n",
        "    \n",
        "    #1.convert words to lowercase (e.g., Python =>python)\n",
        "    word=word.lower()\n",
        "\n",
        "    pattern3 = '[0-9]+' \n",
        "    word = re.sub(pattern3, '', word)\n",
        "    \n",
        "    #2.remove \",\" and \".\"\n",
        "    if word in [\",\",\".\"]:\n",
        "        return None\n",
        "    \n",
        "    #3.remove stopwords  (e.g., the => (None)) \n",
        "    if word in stopwordset:\n",
        "        return None\n",
        "    \n",
        "    #4.lemmatize  (e.g., cooked=>cook)\n",
        "    lemma = wn.morphy(word)\n",
        "    if lemma is None:\n",
        "        return word\n",
        "\n",
        "    # lemmatized words could be in the stopwords set\n",
        "    elif lemma in stopwordset: \n",
        "        return None\n",
        "    else:\n",
        "        return lemma\n",
        "\n",
        "\n",
        "def preprocess_document(document):\n",
        "    document=[preprocess_word(w, en_stop) for w in document]\n",
        "    document=[w for w in document if w is not None]\n",
        "    return document\n",
        "\n",
        "def preprocess_documents(documents):\n",
        "    return [preprocess_document(document) for document in documents]"
      ],
      "execution_count": 138,
      "outputs": []
    },
    {
      "cell_type": "code",
      "metadata": {
        "id": "8knAa7syf_Mo",
        "colab_type": "code",
        "colab": {
          "base_uri": "https://localhost:8080/",
          "height": 71
        },
        "outputId": "09c6984c-8429-4212-9dfa-3797c09545da"
      },
      "source": [
        "# before\n",
        "print(docs[0][:25]) \n",
        "\n",
        "# after\n",
        "print(preprocess_documents(docs)[0][:25])"
      ],
      "execution_count": 54,
      "outputs": [
        {
          "output_type": "stream",
          "text": [
            "['The', 'Fulton', 'County', 'Grand', 'Jury', 'said', 'Friday', 'an', 'investigation', 'of', \"Atlanta's\", 'recent', 'primary', 'election', 'produced', '``', 'no', 'evidence', \"''\", 'that', 'any', 'irregularities', 'took', 'place', '.']\n",
            "['fulton', 'county', 'grand', 'jury', 'friday', 'investigation', \"atlanta's\", 'recent', 'primary', 'election', 'produce', 'evidence', 'irregularity', 'take', 'place', 'jury', 'term-end', 'presentment', 'city', 'executive', 'committee', 'over-all', 'charge', 'election', 'deserve']\n"
          ],
          "name": "stdout"
        }
      ]
    },
    {
      "cell_type": "code",
      "metadata": {
        "id": "SbEyv7X5ifXT",
        "colab_type": "code",
        "colab": {
          "base_uri": "https://localhost:8080/",
          "height": 105
        },
        "outputId": "cab210ce-5c99-44ea-ffcf-8321089b7aa6"
      },
      "source": [
        "from sklearn.decomposition import TruncatedSVD\n",
        "\n",
        "max_k = 20\n",
        "pre_docs=preprocess_documents(docs)\n",
        "pre_docs=[\"\".join(doc) for doc in pre_docs]\n",
        "print(pre_docs[0])\n",
        "\n",
        "# fit\n",
        "X_orig = vectorizer.fit_transform(pre_docs).toarray()\n",
        "terms = vectorizer.get_feature_names()\n",
        "svd = TruncatedSVD(n_components=100, random_state = 0)\n",
        "X = svd.fit_transform(X_orig)\n",
        "\n",
        "print(\"Original X:\", X_orig.shape)\n",
        "print(\"New X:\", X.shape)\n",
        "len(X)"
      ],
      "execution_count": 150,
      "outputs": [
        {
          "output_type": "stream",
          "text": [
            "fultoncountygrandjuryfridayinvestigationatlanta'srecentprimaryelectionproduceevidenceirregularitytakeplacejuryterm-endpresentmentcityexecutivecommitteeover-allchargeelectiondeservepraisethankscityatlantamannerelectionconductseptember-octobertermjurychargefultonsuperiorcourtjudgedurwoodpyeinvestigatereportpossibleirregularityhard-foughtprimarymayor-nominateivanallenjr.relativehandfulreportreceivejuryconsiderwidespreadinterestelectionnumbervotersizecityjuryfindmanygeorgia'sregistrationelectionlawsoutmodeinadequateoftenambiguousrecommendfultonlegislatoractlawsstudyreviseendmodernizeimprovegrandjurycommentnumbertopicamongatlantafultoncountypurchasingdepartmentwelloperatefollowgenerallyacceptpracticeinurebestinterestgovernmentmergerproposehoweverjurybelieftwoofficecombineachievegreaterefficiencyreducecostadministrationcitypurchasingdepartmentjurylackexperienceclericalpersonnelresultcitypersonnelpolicyurgecitytakestepsremedyproblemimplementationgeorgia'sautomobiletitlelawalsorecommendoutgojuryurgenextlegislatureprovideenablefundsre-seteffectivedateorderlyimplementationlawmayeffectgrandjurytakeswipestatewelfaredepartment'shandlingfederalfundsgrantchildwelfareservicesfosterhomeonemajoritemfultoncountygeneralassistanceprogramjurystatewelfaredepartmentseefitdistributefundswelfaredepartmentcountystateexceptionfultoncountyreceivenonemoneyjurorrealizeproportionatedistributionfundsmightdisableprogramlepopulouscountyneverthelessfeelfuturefultoncountyreceiveportionavailablefundsjurorfailurecontinueplacedisproportionateburdenfultontaxpayerjuryalsocommentfultonordinary'scourtfirepracticeappointmentappraiserguardianadministratorawardingfeecompensationwardprotectjuryfoundcourtincorporateoperateprocedurerecommendationtwopreviousgrandjuryatlantabarassociationinterimcitizencommitteeactionserveprotectfacteffectcourt'swardunduecostsappointelectservantunmeritoriouscriticismjuryregardatlanta'snewmulti-million-dollarairportjuryrecommendnewmanagementtakechargejan.airportoperatemannereliminatepoliticalinfluencejuryelaborateaddperiodicsurveillancepricingpracticeconcessionairepurposekeepingreasonableaskjaildeputymatterjuryrecommendfouradditionaldeputyemployfultoncountyjaildoctormedicalinternexternemploynightweekenddutyjailfultonlegislatorworkcityofficialpassenablelegislationpermitestablishmentfairequitablepensionplancityemployjurypraiseadministrationoperationatlantapolicedepartmentfultontaxcommissioner'sofficebellwoodalpharettaprisonfarmgradyhospitalfultonhealthdepartmentmayorwilliamb.hartsfieldfilesuitdivorcewifepearlwilliamshartsfieldfultonsuperiorcourtfridaypetitionchargementalcrueltycouplemarriedaug.sonwilliamberryjr.daughtermrs.j.m.cheshiregriffinattorneymayoramicablepropertysettlementagreeuponpetitionlistmayor'soccupationattorneyagelistwife'sageplacebirthopelikaala.petitioncouplelivetogethermanwifehartsfieldhomee.pelhamrd.ajhenryl.bowdenlistpetitionmayor'sattorneyhartsfieldmayoratlantaexceptiononebriefinterludesincepoliticalcareergobackelectioncitycouncilmayor'spresenttermofficeexpirejan.succeedivanallenjr.becomecandidatesept.primarymayorhartsfieldannouncewouldrunreelectiongeorgiarepublicangettingstrongencouragemententercandidategovernor'sracetopofficialwednesdayrobertsnodgrassstategopchairmanmeetingholdtuesdaynightblueridgebringenthusiasticresponseaudiencestatepartychairmanjamesw.dorseyaddenthusiasmpickingstaterallyholdsept.savannahnewlyelecttexassen.johntowerfeaturespeakerblueridgemeetingaudiencewarnenteringcandidategovernorwouldforcetakepetitionvotingprecinctobtainsignatureregistervoterdespitewarningunanimousvoteentercandidateaccordrepublicanattendcrowdaskwhetherwantwaitonetermmakeracevotedissentlargehurdlerepublicanwouldfacestatelawmakingfirstraceonetwoalternativecoursemusttakefivepercentvotercountymustsignpetitionrequestrepublicanallowplacenamescandidategeneralelectionballotrepublicanmustholdprimarycountyunitsystemsystempartyopposeplatformsamcaldwellstatehighwaydepartmentpublicrelationsdirectorresigntuesdayworklt.gov.garlandbyrd'scampaigncaldwell'sresignationexpecttimesucceedrobledfordgainesvilleassistantthreeyearsgubernatorialcampaignstartcaldwellexpectbecomecampaigncoordinatorbyrdgeorgialegislaturewindsessionmondayheadhomehighwaybondmoneyapprovefollowshortlyadjournmentmondayafternoonsenateexpectapprovestudynumberlegislatorallotruralurbanareadetermineadjustmentmakegov.vandiverexpectmaketraditionalvisitchambersworktowardadjournmentvandiverlikelymentionmillionhighwaybondissueapproveearliersessionfirstpriorityitemconstructionbondmeanwhilelearnstatehighwaydepartmentnearreadyissuefirstmillionworthhighwayreconstructionbondbondissuegostatecourtfriendlytestsuittestvalidityactsalesbegincontractletrepairworkgeorgia'sheavilytravelhighwayhighwaydepartmentsourcealsoplanissuemillionmillionworthruralroadsauthoritybondruralroadconstructionworkrevolvefunddepartmentapparentlyintendmakeruralroadsauthorityrevolvefundnewbondwouldissueeverytimeportionoldonepaytaxauthoritiesvandiveropenracegovernorbattlelegislatureissuancemillionworthadditionalruralroadsbondproposegov.marvingriffinhighwaydepartmentsourcetellconstitutionhowevervandiverconsultyetplanissuenewruralroadsbondschleycountyrep.b.d.pelhamofferresolutionmondayhouserescindbody'sactionfridayvotingperdayincreaseexpenseallowancepelhamsundaynightresearchwhetherquickievoteincreaserepealoutrightwhethernoticewouldfirstgivenreconsiderationactionwouldseekemphasizingtechnicaldetailsfullyworkpelhamresolutionwouldseeksetasideprivilegeresolutionhousevotesimilarresolutionpasssenatevotesundaynightwordresolutionofferrescindactionpelhampointgeorgiavoterlastnovemberrejectconstitutionalamendmentallowlegislatorvotepayraisefuturelegislaturesessionsveteranjacksoncountylegislatoraskgeorgiahousemondaybackfederalaideducationsomethingconsistentlyopposepastrep.macbarbercommerceaskinghouseprivilegeresolutionendorseincreasefederalsupportpubliceducationprovidefundsreceiveexpendstatefundsbarberthlegislatormembercongressionaldelegationwashingtonwouldlikeseeresolutionpassaddnonegeorgia'scongressmanspecificallyaskofferresolutionresolutionbarbertosshousehopperfridayformallyreadmondayeventcongressprovideincreasefederalfundsstateboardeducationdirectgivepriorityteacherpayraisecolquittlonghotcontroversymillercountynewschoolsuperintendentelectpolicemanputcoolelectioneversawcountynewschoolsuperintendentharrydavisveteranagricultureteacherdefeatedfelixbushschoolprincipalchairmanmillercountydemocraticexecutivecommitteedavisreceivevotesaturday'selectionbushgetordinarycareywilliamsarmpistolstandpollsinsureordercoolcalmelectioneversawcolquittpolicemantomwilliamspollslikechurchsmelldropliquorbittroublecampaignleadingelectionquiethowevermarkcontroversyanonymousmidnightphonecallveilthreatviolenceformercountyschoolsuperintendentgeorgep.callanshotdeathmarchfourdaysresignpostdisputecountyschoolboardelectioncampaigncandidatedavisbushreportedlyreceiveanonymoustelephonecallordinarywilliamssubjectanonymouscallsoonscheduleelectionmanylocalcitizenfearwouldirregularitypollswilliamsgetpermitcarrygunpromiseorderlyelectionsherifffelixtabbordinaryapparentlymakegoodpromiseeverythinggorealsmoothsheriffbittrouble\n",
            "Original X: (500, 200)\n",
            "New X: (500, 100)\n"
          ],
          "name": "stdout"
        },
        {
          "output_type": "execute_result",
          "data": {
            "text/plain": [
              "500"
            ]
          },
          "metadata": {
            "tags": []
          },
          "execution_count": 150
        }
      ]
    },
    {
      "cell_type": "code",
      "metadata": {
        "id": "Kvb53kSiaXi3",
        "colab_type": "code",
        "colab": {}
      },
      "source": [
        "# define the vectorizer\n",
        "vectorizer = TfidfVectorizer(max_features=200, token_pattern=r'(?u)\\b\\w+\\b' )\n",
        "\n",
        "# fit\n",
        "tf_idf = vectorizer.fit_transform(pre_docs)"
      ],
      "execution_count": 140,
      "outputs": []
    },
    {
      "cell_type": "code",
      "metadata": {
        "id": "FBu1ssFeZz_C",
        "colab_type": "code",
        "colab": {
          "base_uri": "https://localhost:8080/",
          "height": 187
        },
        "outputId": "848dd8a4-f148-4a37-e99a-fb50b551ae8c"
      },
      "source": [
        "import matplotlib.pyplot as plt\n",
        "import matplotlib.cm as cm\n",
        "from sklearn.cluster import KMeans\n",
        "from scipy.spatial.distance import cdist\n",
        "\n",
        "distortions = [] \n",
        "inertias = [] \n",
        "mapping1 = {} \n",
        "mapping2 = {} \n",
        "\n",
        "def find_optimal_clusters(data, max_k):\n",
        "    iters = range(2, max_k+1, 2)\n",
        "    \n",
        "    sse = []\n",
        "    for k in iters:\n",
        "        kmeanModel = KMeans(n_clusters=k, random_state=20).fit(data)\n",
        "        sse.append(KMeans(n_clusters=k, random_state=20).fit(data).inertia_)\n",
        "        distortions.append(sum(np.min(cdist(data, kmeanModel.cluster_centers_,'euclidean'),axis=1)) / data.shape[0]) \n",
        "        inertias.append(kmeanModel.inertia_) \n",
        "        mapping1[k] = sum(np.min(cdist(data, kmeanModel.cluster_centers_, 'euclidean'),axis=1)) / data.shape[0] \n",
        "        mapping2[k] = kmeanModel.inertia_ \n",
        "        print('Fit {} clusters'.format(k))\n",
        "    \n",
        "find_optimal_clusters(X_orig, max_k)"
      ],
      "execution_count": 151,
      "outputs": [
        {
          "output_type": "stream",
          "text": [
            "Fit 2 clusters\n",
            "Fit 4 clusters\n",
            "Fit 6 clusters\n",
            "Fit 8 clusters\n",
            "Fit 10 clusters\n",
            "Fit 12 clusters\n",
            "Fit 14 clusters\n",
            "Fit 16 clusters\n",
            "Fit 18 clusters\n",
            "Fit 20 clusters\n"
          ],
          "name": "stdout"
        }
      ]
    },
    {
      "cell_type": "code",
      "metadata": {
        "id": "5Xj0_TPMcF4b",
        "colab_type": "code",
        "colab": {
          "base_uri": "https://localhost:8080/",
          "height": 465
        },
        "outputId": "23ec4b67-d189-4374-bdfc-a5c1cd55437f"
      },
      "source": [
        "for key,val in mapping1.items(): \n",
        "    print(str(key)+' : '+str(val)) \n",
        "\n",
        "iters = range(2, max_k +1, 2)\n",
        "\n",
        "plt.plot(iters, distortions, 'bx-') \n",
        "plt.xlabel('Values of K') \n",
        "plt.xticks(np.arange(0, max_k, 2))\n",
        "plt.ylabel('Distortion') \n",
        "plt.title('The Elbow Method using Distortion') \n",
        "plt.show() "
      ],
      "execution_count": 152,
      "outputs": [
        {
          "output_type": "stream",
          "text": [
            "2 : 0.7705400894851367\n",
            "4 : 0.7406951675994854\n",
            "6 : 0.7121623532175207\n",
            "8 : 0.6893504257661157\n",
            "10 : 0.6744865122333578\n",
            "12 : 0.649414533024999\n",
            "14 : 0.6368237620047235\n",
            "16 : 0.6223779056041212\n",
            "18 : 0.6099567864193953\n",
            "20 : 0.599321814056585\n"
          ],
          "name": "stdout"
        },
        {
          "output_type": "display_data",
          "data": {
            "image/png": "[encoded data removed]",
            "text/plain": [
              "<Figure size 432x288 with 1 Axes>"
            ]
          },
          "metadata": {
            "tags": [],
            "needs_background": "light"
          }
        }
      ]
    },
    {
      "cell_type": "code",
      "metadata": {
        "id": "Mn8IheR9c-r9",
        "colab_type": "code",
        "colab": {
          "base_uri": "https://localhost:8080/",
          "height": 465
        },
        "outputId": "f7847dac-5995-4a61-a120-662034538a5b"
      },
      "source": [
        "for key,val in mapping2.items(): \n",
        "    print(str(key)+' : '+str(val)) \n",
        "\n",
        "plt.plot(iters, inertias, 'bx-') \n",
        "plt.xlabel('Values of K') \n",
        "plt.xticks(np.arange(0, max_k, 2))\n",
        "plt.ylabel('Inertia') \n",
        "plt.title('The Elbow Method using Inertia') \n",
        "plt.show() "
      ],
      "execution_count": 153,
      "outputs": [
        {
          "output_type": "stream",
          "text": [
            "2 : 351.37590351066706\n",
            "4 : 330.1562627380243\n",
            "6 : 310.5128227064998\n",
            "8 : 294.96277126794723\n",
            "10 : 285.91442747326477\n",
            "12 : 269.2182668623707\n",
            "14 : 260.60984954284896\n",
            "16 : 251.35362550873944\n",
            "18 : 243.53253549921985\n",
            "20 : 236.79675220448956\n"
          ],
          "name": "stdout"
        },
        {
          "output_type": "display_data",
          "data": {
            "image/png": "[encoded data removed]",
            "text/plain": [
              "<Figure size 432x288 with 1 Axes>"
            ]
          },
          "metadata": {
            "tags": [],
            "needs_background": "light"
          }
        }
      ]
    },
    {
      "cell_type": "code",
      "metadata": {
        "id": "k45_CvyWigS8",
        "colab_type": "code",
        "colab": {
          "base_uri": "https://localhost:8080/",
          "height": 1000
        },
        "outputId": "d10b2213-b5cc-4974-f935-c0edd1022973"
      },
      "source": [
        "import random\n",
        "from collections import Counter\n",
        "from sklearn.metrics.pairwise import euclidean_distances\n",
        "import matplotlib.pyplot as plt\n",
        "rng = random.Random()\n",
        "rng.seed(100)\n",
        "\n",
        "\n",
        "def find_optimal_clusters(data, max_k):\n",
        "    inner_dist = np.zeros(shape=[max_k - 1])\n",
        "    iters = range(2, max_k + 1)\n",
        "\n",
        "    for k in iters:\n",
        "        kmeans = cluster.KMeansClusterer(k, euclidean_distance, avoid_empty_clusters=True, conv_test=1e-4, rng = rng)\n",
        "        clusters = kmeans.cluster(data, True, trace=True) \n",
        "        print('Fit {} clusters'.format(k))\n",
        "        print(\"Displaying results for\", k, \"clusters:\")\n",
        "        print(\"Item count in clusters:\")\n",
        "        print(Counter(clusters))\n",
        "    \n",
        "find_optimal_clusters(X, max_k)\n"
      ],
      "execution_count": 180,
      "outputs": [
        {
          "output_type": "stream",
          "text": [
            "k-means trial 0\n",
            "iteration\n",
            "iteration\n",
            "iteration\n",
            "iteration\n",
            "iteration\n",
            "iteration\n",
            "iteration\n",
            "Fit 2 clusters\n",
            "Displaying results for 2 clusters:\n",
            "Item count in clusters:\n",
            "Counter({1: 475, 0: 25})\n",
            "k-means trial 0\n",
            "iteration\n",
            "iteration\n",
            "iteration\n",
            "iteration\n",
            "iteration\n",
            "iteration\n",
            "iteration\n",
            "iteration\n",
            "iteration\n",
            "iteration\n",
            "iteration\n",
            "iteration\n",
            "iteration\n",
            "Fit 3 clusters\n",
            "Displaying results for 3 clusters:\n",
            "Item count in clusters:\n",
            "Counter({2: 401, 1: 69, 0: 30})\n",
            "k-means trial 0\n",
            "iteration\n",
            "iteration\n",
            "iteration\n",
            "iteration\n",
            "iteration\n",
            "iteration\n",
            "iteration\n",
            "iteration\n",
            "iteration\n",
            "Fit 4 clusters\n",
            "Displaying results for 4 clusters:\n",
            "Item count in clusters:\n",
            "Counter({0: 483, 2: 13, 1: 2, 3: 2})\n",
            "k-means trial 0\n",
            "iteration\n",
            "iteration\n",
            "iteration\n",
            "iteration\n",
            "iteration\n",
            "iteration\n",
            "iteration\n",
            "iteration\n",
            "iteration\n",
            "Fit 5 clusters\n",
            "Displaying results for 5 clusters:\n",
            "Item count in clusters:\n",
            "Counter({1: 408, 2: 37, 0: 32, 4: 19, 3: 4})\n",
            "k-means trial 0\n",
            "iteration\n",
            "iteration\n",
            "iteration\n",
            "iteration\n",
            "iteration\n",
            "iteration\n",
            "iteration\n",
            "Fit 6 clusters\n",
            "Displaying results for 6 clusters:\n",
            "Item count in clusters:\n",
            "Counter({0: 339, 2: 58, 3: 35, 5: 33, 1: 22, 4: 13})\n",
            "k-means trial 0\n",
            "iteration\n",
            "iteration\n",
            "iteration\n",
            "iteration\n",
            "iteration\n",
            "iteration\n",
            "iteration\n",
            "iteration\n",
            "iteration\n",
            "iteration\n",
            "iteration\n",
            "iteration\n",
            "iteration\n",
            "Fit 7 clusters\n",
            "Displaying results for 7 clusters:\n",
            "Item count in clusters:\n",
            "Counter({0: 316, 3: 61, 1: 41, 5: 31, 4: 28, 2: 12, 6: 11})\n",
            "k-means trial 0\n",
            "iteration\n",
            "iteration\n",
            "iteration\n",
            "iteration\n",
            "iteration\n",
            "iteration\n",
            "iteration\n",
            "iteration\n",
            "iteration\n",
            "iteration\n",
            "iteration\n",
            "iteration\n",
            "iteration\n",
            "iteration\n",
            "iteration\n",
            "Fit 8 clusters\n",
            "Displaying results for 8 clusters:\n",
            "Item count in clusters:\n",
            "Counter({3: 267, 2: 52, 0: 49, 5: 43, 1: 30, 6: 29, 4: 28, 7: 2})\n",
            "k-means trial 0\n",
            "iteration\n",
            "iteration\n",
            "iteration\n",
            "iteration\n",
            "iteration\n",
            "iteration\n",
            "iteration\n",
            "iteration\n",
            "iteration\n",
            "iteration\n",
            "iteration\n",
            "iteration\n",
            "iteration\n",
            "iteration\n",
            "iteration\n",
            "Fit 9 clusters\n",
            "Displaying results for 9 clusters:\n",
            "Item count in clusters:\n",
            "Counter({1: 364, 8: 32, 0: 32, 3: 25, 4: 18, 6: 11, 5: 11, 7: 4, 2: 3})\n",
            "k-means trial 0\n",
            "iteration\n",
            "iteration\n",
            "iteration\n",
            "iteration\n",
            "iteration\n",
            "iteration\n",
            "iteration\n",
            "iteration\n",
            "iteration\n",
            "iteration\n",
            "iteration\n",
            "iteration\n",
            "iteration\n",
            "iteration\n",
            "Fit 10 clusters\n",
            "Displaying results for 10 clusters:\n",
            "Item count in clusters:\n",
            "Counter({1: 220, 0: 101, 4: 47, 9: 30, 3: 28, 6: 25, 2: 20, 7: 10, 8: 10, 5: 9})\n",
            "k-means trial 0\n",
            "iteration\n",
            "iteration\n",
            "iteration\n",
            "iteration\n",
            "iteration\n",
            "iteration\n",
            "iteration\n",
            "iteration\n",
            "iteration\n",
            "iteration\n",
            "iteration\n",
            "iteration\n",
            "Fit 11 clusters\n",
            "Displaying results for 11 clusters:\n",
            "Item count in clusters:\n",
            "Counter({9: 355, 0: 64, 7: 27, 8: 21, 3: 16, 2: 7, 5: 4, 10: 3, 4: 1, 6: 1, 1: 1})\n",
            "k-means trial 0\n",
            "iteration\n",
            "iteration\n",
            "iteration\n",
            "iteration\n",
            "iteration\n",
            "iteration\n",
            "iteration\n",
            "iteration\n",
            "iteration\n",
            "iteration\n",
            "iteration\n",
            "Fit 12 clusters\n",
            "Displaying results for 12 clusters:\n",
            "Item count in clusters:\n",
            "Counter({7: 315, 4: 64, 6: 30, 2: 28, 9: 26, 1: 19, 10: 8, 11: 4, 8: 3, 5: 1, 3: 1, 0: 1})\n",
            "k-means trial 0\n",
            "iteration\n",
            "iteration\n",
            "iteration\n",
            "iteration\n",
            "iteration\n",
            "iteration\n",
            "iteration\n",
            "iteration\n",
            "iteration\n",
            "iteration\n",
            "iteration\n",
            "iteration\n",
            "Fit 13 clusters\n",
            "Displaying results for 13 clusters:\n",
            "Item count in clusters:\n",
            "Counter({12: 128, 6: 102, 7: 62, 9: 49, 11: 33, 10: 27, 3: 27, 1: 23, 8: 21, 2: 9, 5: 8, 0: 6, 4: 5})\n",
            "k-means trial 0\n",
            "iteration\n",
            "iteration\n",
            "iteration\n",
            "iteration\n",
            "iteration\n",
            "iteration\n",
            "iteration\n",
            "iteration\n",
            "iteration\n",
            "iteration\n",
            "iteration\n",
            "iteration\n",
            "iteration\n",
            "iteration\n",
            "iteration\n",
            "iteration\n",
            "iteration\n",
            "iteration\n",
            "Fit 14 clusters\n",
            "Displaying results for 14 clusters:\n",
            "Item count in clusters:\n",
            "Counter({11: 151, 1: 78, 2: 63, 6: 53, 3: 34, 8: 25, 0: 23, 5: 18, 9: 17, 4: 10, 10: 9, 13: 7, 12: 7, 7: 5})\n",
            "k-means trial 0\n",
            "iteration\n",
            "iteration\n",
            "iteration\n",
            "iteration\n",
            "iteration\n",
            "iteration\n",
            "iteration\n",
            "iteration\n",
            "iteration\n",
            "iteration\n",
            "iteration\n",
            "iteration\n",
            "iteration\n",
            "iteration\n",
            "Fit 15 clusters\n",
            "Displaying results for 15 clusters:\n",
            "Item count in clusters:\n",
            "Counter({1: 263, 13: 46, 4: 26, 5: 26, 10: 25, 0: 24, 2: 22, 7: 21, 12: 21, 6: 8, 9: 8, 3: 6, 11: 2, 14: 1, 8: 1})\n",
            "k-means trial 0\n",
            "iteration\n",
            "iteration\n",
            "iteration\n",
            "iteration\n",
            "iteration\n",
            "iteration\n",
            "iteration\n",
            "iteration\n",
            "iteration\n",
            "iteration\n",
            "iteration\n",
            "iteration\n",
            "iteration\n",
            "Fit 16 clusters\n",
            "Displaying results for 16 clusters:\n",
            "Item count in clusters:\n",
            "Counter({15: 144, 0: 81, 5: 68, 7: 49, 6: 27, 9: 27, 13: 22, 4: 22, 11: 12, 3: 10, 14: 9, 8: 9, 10: 7, 12: 7, 1: 4, 2: 2})\n",
            "k-means trial 0\n",
            "iteration\n",
            "iteration\n",
            "iteration\n",
            "iteration\n",
            "iteration\n",
            "iteration\n",
            "iteration\n",
            "iteration\n",
            "iteration\n",
            "iteration\n",
            "iteration\n",
            "Fit 17 clusters\n",
            "Displaying results for 17 clusters:\n",
            "Item count in clusters:\n",
            "Counter({15: 131, 5: 74, 10: 58, 4: 49, 16: 35, 2: 35, 12: 28, 14: 26, 13: 14, 11: 13, 0: 11, 9: 10, 8: 6, 6: 4, 1: 3, 7: 2, 3: 1})\n",
            "k-means trial 0\n",
            "iteration\n",
            "iteration\n",
            "iteration\n",
            "iteration\n",
            "iteration\n",
            "iteration\n",
            "iteration\n",
            "iteration\n",
            "iteration\n",
            "iteration\n",
            "iteration\n",
            "iteration\n",
            "iteration\n",
            "iteration\n",
            "iteration\n",
            "iteration\n",
            "iteration\n",
            "Fit 18 clusters\n",
            "Displaying results for 18 clusters:\n",
            "Item count in clusters:\n",
            "Counter({16: 192, 1: 79, 2: 54, 14: 33, 4: 30, 7: 24, 15: 22, 0: 17, 3: 13, 17: 8, 11: 8, 8: 4, 5: 4, 6: 4, 9: 3, 10: 2, 12: 2, 13: 1})\n",
            "k-means trial 0\n",
            "iteration\n",
            "iteration\n",
            "iteration\n",
            "iteration\n",
            "iteration\n",
            "iteration\n",
            "iteration\n",
            "iteration\n",
            "iteration\n",
            "iteration\n",
            "iteration\n",
            "iteration\n",
            "iteration\n",
            "iteration\n",
            "iteration\n",
            "Fit 19 clusters\n",
            "Displaying results for 19 clusters:\n",
            "Item count in clusters:\n",
            "Counter({15: 133, 0: 58, 4: 50, 17: 43, 6: 27, 3: 24, 2: 24, 9: 20, 16: 20, 12: 16, 18: 15, 7: 15, 11: 14, 1: 13, 8: 10, 10: 8, 13: 5, 14: 3, 5: 2})\n",
            "k-means trial 0\n",
            "iteration\n",
            "iteration\n",
            "iteration\n",
            "iteration\n",
            "iteration\n",
            "iteration\n",
            "iteration\n",
            "iteration\n",
            "iteration\n",
            "iteration\n",
            "iteration\n",
            "iteration\n",
            "iteration\n",
            "Fit 20 clusters\n",
            "Displaying results for 20 clusters:\n",
            "Item count in clusters:\n",
            "Counter({7: 202, 4: 46, 13: 45, 6: 23, 11: 23, 15: 22, 10: 22, 9: 19, 12: 16, 8: 15, 5: 14, 14: 14, 19: 10, 17: 10, 1: 8, 16: 4, 0: 3, 2: 2, 3: 1, 18: 1})\n"
          ],
          "name": "stdout"
        }
      ]
    },
    {
      "cell_type": "code",
      "metadata": {
        "id": "FnptrHAdi1Nk",
        "colab_type": "code",
        "colab": {
          "base_uri": "https://localhost:8080/",
          "height": 574
        },
        "outputId": "30d37d8e-b7ef-470f-daf0-40ccc265bd6a"
      },
      "source": [
        "# K-means setting\n",
        "num_clusters = 8\n",
        "kmeans = cluster.KMeansClusterer(num_clusters, euclidean_distance, avoid_empty_clusters=True, conv_test=1e-4, rng = rng.seed(100))\n",
        "clusters = kmeans.cluster(X, True, trace=True) \n",
        "\n",
        "set_data = zip(clusters, terms)  \n",
        "final_list = sorted(set_data, key=lambda tup: tup[0])\n",
        "print(final_list)\n",
        "\n",
        "plt.scatter(X[:, 0], X[:, 1], c=clusters,\n",
        "            s=50, cmap='viridis');"
      ],
      "execution_count": 190,
      "outputs": [
        {
          "output_type": "stream",
          "text": [
            "k-means trial 0\n",
            "iteration\n",
            "iteration\n",
            "iteration\n",
            "iteration\n",
            "iteration\n",
            "iteration\n",
            "iteration\n",
            "iteration\n",
            "iteration\n",
            "iteration\n",
            "iteration\n",
            "iteration\n",
            "iteration\n",
            "iteration\n",
            "iteration\n",
            "[(0, 'fig'), (0, 'k'), (0, 'miller'), (0, 'per'), (0, 'santoine'), (0, 'st'), (0, 'ten'), (0, 'wendelljr'), (0, 'williamh'), (0, 'y'), (2, 'aanti'), (2, 'at'), (2, 'b'), (2, 'banion'), (2, 'by'), (2, 'c'), (2, 'centperpoundpaymentshallpercentumdifference'), (2, 'chicagoill'), (2, 'compare'), (2, 'conant'), (2, 'corpuscular'), (2, 'coupleddouble'), (2, 'coward'), (2, 'de'), (2, 'dec'), (2, 'degrees'), (2, 'dia'), (2, 'dr'), (2, 'flexiblemillionlb'), (2, 'frankc'), (2, 'g'), (2, 'gen'), (2, 'geraghty'), (2, 'go'), (2, 'gov'), (2, 'half'), (2, 'hammarskjold'), (2, 'high'), (2, 'his'), (2, 'hp'), (2, 'hr'), (2, 'hundred'), (2, 'i'), (2, 'inch'), (2, 'it'), (2, 'jensen'), (2, 'john'), (2, 'khrushchev'), (2, 'kirby'), (2, 'l'), (2, 'lawdaughtermr'), (2, 'louisu'), (2, 'lovecan'), (2, 'm'), (2, 'maximumamountpaymentmaymakeaccountsalesmakecalendarshallexceed'), (2, 'month'), (2, 'mr'), (2, 'of'), (2, 'pap'), (2, 'rea'), (2, 'roberto'), (2, 'sco'), (2, 'scoffee'), (2, 'sdr'), (2, 'seattlewash'), (2, 'sept'), (2, 'service'), (2, 'sthree'), (2, 'third'), (2, 'thousand'), (2, 'threesistermrs'), (2, 'unitestateu'), (2, 'vecomepatconyers'), (2, 'w'), (3, 'all'), (3, 'and'), (3, 'in'), (3, 'kansascitymo'), (3, 'lattimer'), (3, 'mmes'), (3, 'non'), (3, 'on'), (3, 'one'), (3, 'pullsuper'), (3, 'setsno'), (3, 'show'), (3, 'smany'), (3, 'thruoct'), (3, 'waynel'), (4, 'brown'), (4, 'detroitmich'), (4, 'green'), (4, 'kc'), (4, 'oneindependenceonehundredeighty'), (4, 'over'), (4, 'pacificcorp'), (4, 's'), (4, 'speakermr'), (4, 'sq'), (4, 'the'), (4, 'u'), (4, 'v'), (5, 'be'), (5, 'jack'), (5, 'louis'), (5, 'lyford'), (5, 'middle'), (5, 'oct'), (5, 'p'), (5, 'patrick'), (5, 'rocket'), (5, 'si'), (5, 'three'), (6, 'anglo'), (6, 'cu'), (6, 'd'), (6, 'day'), (6, 'digittwo'), (6, 'f'), (6, 'five'), (6, 'foot'), (6, 'for'), (6, 'fourno'), (6, 'garlandbyrd'), (6, 'h'), (6, 'inchno'), (6, 'industrialbuildingauthority'), (6, 'j'), (6, 'kennedy'), (6, 'laguerrehanovertarheel'), (6, 'long'), (6, 'mrs'), (6, 'o'), (6, 'onea'), (6, 'oz'), (6, 'peter'), (6, 'president'), (6, 'q'), (6, 'remarque'), (6, 'so'), (6, 'sone'), (6, 'sp'), (6, 'spride'), (6, 't'), (6, 'thirty'), (6, 'tholdhan'), (6, 'upper'), (7, 'a'), (7, 'air'), (7, 'americamr'), (7, 'anti'), (7, 'bostonmass'), (7, 'brownmr'), (7, 'co'), (7, 'e'), (7, 'feb'), (7, 'front'), (7, 'ft'), (7, 'hearst'), (7, 'johnl'), (7, 'justicefrankfurter'), (7, 'lb'), (7, 'lli'), (7, 'losangelescalif'), (7, 'lotpurchaseodd'), (7, 'lower'), (7, 'luke'), (7, 'mary'), (7, 'meeker'), (7, 'miamifla'), (7, 'michael'), (7, 'mile'), (7, 'million'), (7, 'morgani'), (7, 'n'), (7, 'newyorkn'), (7, 'nixonmr'), (7, 'nottejr'), (7, 'off'), (7, 'percentheavyengineering'), (7, 'percentresidential'), (7, 'positivesubjectkohnstamm'), (7, 'r'), (7, 'regod'), (7, 'rusk'), (7, 'sanfranciscocalif'), (7, 'santi'), (7, 'shalf'), (7, 'skyros'), (7, 'slong'), (7, 'ssong'), (7, 'sthat'), (7, 'than'), (7, 'that'), (7, 'to'), (7, 'two'), (7, 'watt'), (7, 'wesker'), (7, 'world'), (7, 'year')]\n"
          ],
          "name": "stdout"
        },
        {
          "output_type": "display_data",
          "data": {
            "image/png": "[encoded data removed]",
            "text/plain": [
              "<Figure size 432x288 with 1 Axes>"
            ]
          },
          "metadata": {
            "tags": [],
            "needs_background": "light"
          }
        }
      ]
    }
  ]
}